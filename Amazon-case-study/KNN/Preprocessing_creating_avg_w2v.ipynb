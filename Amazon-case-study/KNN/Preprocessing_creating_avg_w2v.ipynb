{
 "cells": [
  {
   "cell_type": "code",
   "execution_count": 1,
   "metadata": {},
   "outputs": [
    {
     "name": "stderr",
     "output_type": "stream",
     "text": [
      "C:\\Users\\HARSHALL\\Anaconda3\\lib\\site-packages\\gensim\\utils.py:860: UserWarning: detected Windows; aliasing chunkize to chunkize_serial\n",
      "  warnings.warn(\"detected Windows; aliasing chunkize to chunkize_serial\")\n"
     ]
    }
   ],
   "source": [
    "## Import libraries\n",
    "import numpy as np\n",
    "import pandas as pd\n",
    "import matplotlib.pyplot as plt\n",
    "import seaborn as sns\n",
    "%matplotlib inline\n",
    "\n",
    "import sqlite3    ## SQL Interface\n",
    "import pickle     ## Used to save your data - Converts objects to byte stream and vice versa\n",
    "\n",
    "from sklearn.feature_extraction.text import CountVectorizer  ## BOW Model\n",
    "from sklearn.feature_extraction.text import TfidfVectorizer  ## TFIDF Model\n",
    "\n",
    "from sklearn.manifold import TSNE    ## To visualize high dimensional data\n",
    "\n",
    "## Modules to perform Text Preprocessing\n",
    "import re\n",
    "import nltk\n",
    "from nltk.corpus import stopwords\n",
    "\n",
    "import gensim    ## To build Word2Vec model"
   ]
  },
  {
   "cell_type": "code",
   "execution_count": 2,
   "metadata": {},
   "outputs": [
    {
     "data": {
      "text/html": [
       "<div>\n",
       "<style>\n",
       "    .dataframe thead tr:only-child th {\n",
       "        text-align: right;\n",
       "    }\n",
       "\n",
       "    .dataframe thead th {\n",
       "        text-align: left;\n",
       "    }\n",
       "\n",
       "    .dataframe tbody tr th {\n",
       "        vertical-align: top;\n",
       "    }\n",
       "</style>\n",
       "<table border=\"1\" class=\"dataframe\">\n",
       "  <thead>\n",
       "    <tr style=\"text-align: right;\">\n",
       "      <th></th>\n",
       "      <th>Id</th>\n",
       "      <th>ProductId</th>\n",
       "      <th>UserId</th>\n",
       "      <th>ProfileName</th>\n",
       "      <th>HelpfulnessNumerator</th>\n",
       "      <th>HelpfulnessDenominator</th>\n",
       "      <th>Score</th>\n",
       "      <th>Time</th>\n",
       "      <th>Summary</th>\n",
       "      <th>Text</th>\n",
       "      <th>CleanedText</th>\n",
       "      <th>CleanedNoStem</th>\n",
       "    </tr>\n",
       "  </thead>\n",
       "  <tbody>\n",
       "    <tr>\n",
       "      <th>0</th>\n",
       "      <td>540125</td>\n",
       "      <td>B002W08W56</td>\n",
       "      <td>A2STPOZAT37RNE</td>\n",
       "      <td>Betty Baker</td>\n",
       "      <td>1</td>\n",
       "      <td>1</td>\n",
       "      <td>1</td>\n",
       "      <td>1300320000</td>\n",
       "      <td>Wonderful, but surprised to find this size can...</td>\n",
       "      <td>Great beans....the best texture hands down.  T...</td>\n",
       "      <td>great bean best textur hand seem great tast do...</td>\n",
       "      <td>great beans best texture hands seem great tast...</td>\n",
       "    </tr>\n",
       "    <tr>\n",
       "      <th>1</th>\n",
       "      <td>31763</td>\n",
       "      <td>B000UXWQMC</td>\n",
       "      <td>A115Y8R40DCT3I</td>\n",
       "      <td>Guy</td>\n",
       "      <td>0</td>\n",
       "      <td>0</td>\n",
       "      <td>1</td>\n",
       "      <td>1345161600</td>\n",
       "      <td>better than expected</td>\n",
       "      <td>I usually buy whole pitted olives and when I b...</td>\n",
       "      <td>usual buy whole pit oliv bought good wasnt who...</td>\n",
       "      <td>usually buy whole pitted olives bought good wa...</td>\n",
       "    </tr>\n",
       "    <tr>\n",
       "      <th>2</th>\n",
       "      <td>509504</td>\n",
       "      <td>B000P09RJA</td>\n",
       "      <td>A2BR8LGC8N6XQD</td>\n",
       "      <td>dj2u</td>\n",
       "      <td>0</td>\n",
       "      <td>4</td>\n",
       "      <td>0</td>\n",
       "      <td>1278374400</td>\n",
       "      <td>Wrong size bars sent</td>\n",
       "      <td>The first shipment was just as ordered.  This ...</td>\n",
       "      <td>first shipment order last shipment not bar wen...</td>\n",
       "      <td>first shipment ordered last shipment not bars ...</td>\n",
       "    </tr>\n",
       "    <tr>\n",
       "      <th>3</th>\n",
       "      <td>27728</td>\n",
       "      <td>B000K8ESBY</td>\n",
       "      <td>A1RYTIMIWPDJ4O</td>\n",
       "      <td>Bill Ison \"Bill\"</td>\n",
       "      <td>0</td>\n",
       "      <td>0</td>\n",
       "      <td>1</td>\n",
       "      <td>1256169600</td>\n",
       "      <td>Coffee flavoring</td>\n",
       "      <td>&lt;a href=\"http://www.amazon.com/gp/product/B000...</td>\n",
       "      <td>flavour creation coffe flavor tablet french va...</td>\n",
       "      <td>flavour creations coffee flavoring tablets fre...</td>\n",
       "    </tr>\n",
       "    <tr>\n",
       "      <th>4</th>\n",
       "      <td>128657</td>\n",
       "      <td>B001AVJT0K</td>\n",
       "      <td>AJ6SZ4YAPOOO7</td>\n",
       "      <td>Mwebi</td>\n",
       "      <td>0</td>\n",
       "      <td>0</td>\n",
       "      <td>1</td>\n",
       "      <td>1348099200</td>\n",
       "      <td>They all come running</td>\n",
       "      <td>I have the pickiest cats, they hate 99/100 kin...</td>\n",
       "      <td>pickiest cat hate kind food better vari otherw...</td>\n",
       "      <td>pickiest cats hate kinds food better vary othe...</td>\n",
       "    </tr>\n",
       "  </tbody>\n",
       "</table>\n",
       "</div>"
      ],
      "text/plain": [
       "       Id   ProductId          UserId       ProfileName  HelpfulnessNumerator  \\\n",
       "0  540125  B002W08W56  A2STPOZAT37RNE       Betty Baker                     1   \n",
       "1   31763  B000UXWQMC  A115Y8R40DCT3I               Guy                     0   \n",
       "2  509504  B000P09RJA  A2BR8LGC8N6XQD              dj2u                     0   \n",
       "3   27728  B000K8ESBY  A1RYTIMIWPDJ4O  Bill Ison \"Bill\"                     0   \n",
       "4  128657  B001AVJT0K   AJ6SZ4YAPOOO7             Mwebi                     0   \n",
       "\n",
       "   HelpfulnessDenominator  Score        Time  \\\n",
       "0                       1      1  1300320000   \n",
       "1                       0      1  1345161600   \n",
       "2                       4      0  1278374400   \n",
       "3                       0      1  1256169600   \n",
       "4                       0      1  1348099200   \n",
       "\n",
       "                                             Summary  \\\n",
       "0  Wonderful, but surprised to find this size can...   \n",
       "1                               better than expected   \n",
       "2                               Wrong size bars sent   \n",
       "3                                   Coffee flavoring   \n",
       "4                              They all come running   \n",
       "\n",
       "                                                Text  \\\n",
       "0  Great beans....the best texture hands down.  T...   \n",
       "1  I usually buy whole pitted olives and when I b...   \n",
       "2  The first shipment was just as ordered.  This ...   \n",
       "3  <a href=\"http://www.amazon.com/gp/product/B000...   \n",
       "4  I have the pickiest cats, they hate 99/100 kin...   \n",
       "\n",
       "                                         CleanedText  \\\n",
       "0  great bean best textur hand seem great tast do...   \n",
       "1  usual buy whole pit oliv bought good wasnt who...   \n",
       "2  first shipment order last shipment not bar wen...   \n",
       "3  flavour creation coffe flavor tablet french va...   \n",
       "4  pickiest cat hate kind food better vari otherw...   \n",
       "\n",
       "                                       CleanedNoStem  \n",
       "0  great beans best texture hands seem great tast...  \n",
       "1  usually buy whole pitted olives bought good wa...  \n",
       "2  first shipment ordered last shipment not bars ...  \n",
       "3  flavour creations coffee flavoring tablets fre...  \n",
       "4  pickiest cats hate kinds food better vary othe...  "
      ]
     },
     "execution_count": 2,
     "metadata": {},
     "output_type": "execute_result"
    }
   ],
   "source": [
    "conn = sqlite3.connect('final.sqlite')\n",
    "final = pd.read_sql_query(\"\"\"SELECT * FROM Reviews\"\"\", conn)\n",
    "conn.close()\n",
    "final.head()"
   ]
  },
  {
   "cell_type": "code",
   "execution_count": 3,
   "metadata": {},
   "outputs": [
    {
     "name": "stdout",
     "output_type": "stream",
     "text": [
      "{'should', 'themselves', 'her', 'there', 'did', 'herself', 'aren', 'you', 'between', 'until', 'been', 'both', 'couldn', 'had', 'my', 'll', 'doesn', 'through', 'wouldn', 'them', 'which', 'their', 'ours', 'yourselves', 'who', 'into', 'before', 'other', 've', 'its', 'down', 'more', 'here', 'yours', 'does', 'has', 'only', 'it', 'me', 'in', 'his', 'over', 'while', 'that', 'when', 'having', 'mustn', 'isn', 'doing', 'whom', 'but', 'mightn', 'ain', 'each', 'o', 'shan', 'itself', 'of', 'during', 'shouldn', 'be', 'him', 'again', 'under', 'out', 'or', 'how', 'further', 'he', 'same', 'once', 'weren', 'yourself', 'theirs', 'your', 'by', 'why', 'were', 'are', 'from', 'they', 'himself', 'and', 'haven', 'y', 'an', 'a', 'hers', 'than', 'very', 'what', 'needn', 'm', 'myself', 'own', 'for', 're', 'all', 'if', 'few', 'ourselves', 'where', 'about', 'such', 'do', 'this', 'can', 'those', 'is', 'hadn', 'hasn', 'below', 'now', 'so', 'as', 'being', 'will', 'up', 'she', 'too', 'because', 'after', 'i', 'was', 'to', 'am', 'the', 'then', 'off', 'wasn', 'd', 'these', 'any', 'above', 'ma', 'our', 'we', 'no', 'with', 'didn', 'just', 'at', 'on', 'have', 's', 't', 'don', 'most', 'some'}\n"
     ]
    }
   ],
   "source": [
    "stop = set(stopwords.words('english')) #set of stopwords\n",
    "lst = ['won', 'nor', 'not', 'against']\n",
    "for word in lst:\n",
    "    stop.remove(word)\n",
    "print(stop)"
   ]
  },
  {
   "cell_type": "code",
   "execution_count": 4,
   "metadata": {
    "collapsed": true
   },
   "outputs": [],
   "source": [
    "sno = nltk.stem.SnowballStemmer('english')"
   ]
  },
  {
   "cell_type": "code",
   "execution_count": 5,
   "metadata": {
    "collapsed": true
   },
   "outputs": [],
   "source": [
    "def cleanhtml(sentence):\n",
    "    '''This function removes all the html tags in the given sentence'''\n",
    "    cleanr = re.compile('<.*?>')    ## find the index of the html tags\n",
    "    cleantext = re.sub(cleanr, ' ', sentence)  ## Substitute <space> in place of any html tag\n",
    "    return cleantext\n",
    "\n",
    "def cleanpunc(sentence):\n",
    "    '''This function cleans all the punctuation or special characters from a given sentence'''\n",
    "    cleaned = re.sub(r'[?|@|!|^|%|\\'|\"|#]',r'',sentence)\n",
    "    cleaned = re.sub(r'[.|,|)|(|\\|/]',r' ',cleaned)\n",
    "    return  cleaned"
   ]
  },
  {
   "cell_type": "code",
   "execution_count": 11,
   "metadata": {
    "collapsed": true
   },
   "outputs": [],
   "source": [
    "def preprocessing(series):\n",
    "    '''The function takes a Pandas Series object containing text in all the cells\n",
    "       And performs following Preprocessing steps on each cell:\n",
    "       1. Clean text from html tags\n",
    "       2. Clean text from punctuations and special characters\n",
    "       3. Retain only non-numeric Latin characters with lenght > 2\n",
    "       4. Remove stopwords from the sentence\n",
    "       5. Apply stemming to all the words in the sentence\n",
    "       \n",
    "       Return values:\n",
    "       1. final_string - List of cleaned sentences\n",
    "       2. list_of_sent - List of lists which can be used as input to the W2V model'''\n",
    "    \n",
    "    i = 0\n",
    "    str1=\" \"\n",
    "    final_string = []    ## This list will contain cleaned sentences\n",
    "    list_of_sent = []    ## This is a list of lists used as input to the W2V model at a later stage\n",
    "    \n",
    "    \n",
    "    for sent in series.values:\n",
    "        ## \n",
    "        filtered_sent = []\n",
    "        sent = cleanhtml(sent)    ## Clean the HTML tags\n",
    "        sent = cleanpunc(sent)    ## Clean the punctuations and special characters\n",
    "        ## Sentences are cleaned and words are handled individually\n",
    "        for cleaned_words in sent.split():\n",
    "            ## Only consider non-numeric words with length at least 3\n",
    "            if((cleaned_words.isalpha()) and (len(cleaned_words) > 2)):\n",
    "                ## Only consider words which are not stopwords and convert them to lowet case\n",
    "                if(cleaned_words.lower() not in stop):\n",
    "                    ## Apply snowball stemmer and add them to the filtered_sent list\n",
    "                    #s = (sno.stem(cleaned_words.lower()))#.encode('utf-8')\n",
    "                    s = cleaned_words.lower()\n",
    "                    filtered_sent.append(s)    ## This contains all the cleaned words for a sentence\n",
    "        ## Below list is a list of lists used as input to W2V model later\n",
    "        list_of_sent.append(filtered_sent)\n",
    "        ## Join back all the words belonging to the same sentence\n",
    "        str1 = \" \".join(filtered_sent)\n",
    "        ## Finally add the cleaned sentence in the below list\n",
    "        final_string.append(str1)\n",
    "        #print(i)\n",
    "        i += 1\n",
    "    return final_string, list_of_sent"
   ]
  },
  {
   "cell_type": "code",
   "execution_count": 12,
   "metadata": {
    "collapsed": true
   },
   "outputs": [],
   "source": [
    "final_string, list_of_sent = preprocessing(final['Text'])"
   ]
  },
  {
   "cell_type": "code",
   "execution_count": 13,
   "metadata": {},
   "outputs": [
    {
     "data": {
      "text/plain": [
       "364171"
      ]
     },
     "execution_count": 13,
     "metadata": {},
     "output_type": "execute_result"
    }
   ],
   "source": [
    "len(final_string)"
   ]
  },
  {
   "cell_type": "code",
   "execution_count": 14,
   "metadata": {},
   "outputs": [
    {
     "data": {
      "text/plain": [
       "364171"
      ]
     },
     "execution_count": 14,
     "metadata": {},
     "output_type": "execute_result"
    }
   ],
   "source": [
    "len(list_of_sent)"
   ]
  },
  {
   "cell_type": "code",
   "execution_count": 16,
   "metadata": {
    "collapsed": true
   },
   "outputs": [],
   "source": [
    "final['CleanedNoStem']=final_string"
   ]
  },
  {
   "cell_type": "code",
   "execution_count": 21,
   "metadata": {},
   "outputs": [
    {
     "data": {
      "text/html": [
       "<div>\n",
       "<style>\n",
       "    .dataframe thead tr:only-child th {\n",
       "        text-align: right;\n",
       "    }\n",
       "\n",
       "    .dataframe thead th {\n",
       "        text-align: left;\n",
       "    }\n",
       "\n",
       "    .dataframe tbody tr th {\n",
       "        vertical-align: top;\n",
       "    }\n",
       "</style>\n",
       "<table border=\"1\" class=\"dataframe\">\n",
       "  <thead>\n",
       "    <tr style=\"text-align: right;\">\n",
       "      <th></th>\n",
       "      <th>Id</th>\n",
       "      <th>ProductId</th>\n",
       "      <th>UserId</th>\n",
       "      <th>ProfileName</th>\n",
       "      <th>HelpfulnessNumerator</th>\n",
       "      <th>HelpfulnessDenominator</th>\n",
       "      <th>Score</th>\n",
       "      <th>Time</th>\n",
       "      <th>Summary</th>\n",
       "      <th>Text</th>\n",
       "      <th>CleanedText</th>\n",
       "      <th>CleanedNoStem</th>\n",
       "    </tr>\n",
       "  </thead>\n",
       "  <tbody>\n",
       "    <tr>\n",
       "      <th>0</th>\n",
       "      <td>540125</td>\n",
       "      <td>B002W08W56</td>\n",
       "      <td>A2STPOZAT37RNE</td>\n",
       "      <td>Betty Baker</td>\n",
       "      <td>1</td>\n",
       "      <td>1</td>\n",
       "      <td>1</td>\n",
       "      <td>1300320000</td>\n",
       "      <td>Wonderful, but surprised to find this size can...</td>\n",
       "      <td>Great beans....the best texture hands down.  T...</td>\n",
       "      <td>great bean best textur hand seem great tast do...</td>\n",
       "      <td>great beans best texture hands seem great tast...</td>\n",
       "    </tr>\n",
       "    <tr>\n",
       "      <th>1</th>\n",
       "      <td>31763</td>\n",
       "      <td>B000UXWQMC</td>\n",
       "      <td>A115Y8R40DCT3I</td>\n",
       "      <td>Guy</td>\n",
       "      <td>0</td>\n",
       "      <td>0</td>\n",
       "      <td>1</td>\n",
       "      <td>1345161600</td>\n",
       "      <td>better than expected</td>\n",
       "      <td>I usually buy whole pitted olives and when I b...</td>\n",
       "      <td>usual buy whole pit oliv bought good wasnt who...</td>\n",
       "      <td>usually buy whole pitted olives bought good wa...</td>\n",
       "    </tr>\n",
       "    <tr>\n",
       "      <th>2</th>\n",
       "      <td>509504</td>\n",
       "      <td>B000P09RJA</td>\n",
       "      <td>A2BR8LGC8N6XQD</td>\n",
       "      <td>dj2u</td>\n",
       "      <td>0</td>\n",
       "      <td>4</td>\n",
       "      <td>0</td>\n",
       "      <td>1278374400</td>\n",
       "      <td>Wrong size bars sent</td>\n",
       "      <td>The first shipment was just as ordered.  This ...</td>\n",
       "      <td>first shipment order last shipment not bar wen...</td>\n",
       "      <td>first shipment ordered last shipment not bars ...</td>\n",
       "    </tr>\n",
       "    <tr>\n",
       "      <th>3</th>\n",
       "      <td>27728</td>\n",
       "      <td>B000K8ESBY</td>\n",
       "      <td>A1RYTIMIWPDJ4O</td>\n",
       "      <td>Bill Ison \"Bill\"</td>\n",
       "      <td>0</td>\n",
       "      <td>0</td>\n",
       "      <td>1</td>\n",
       "      <td>1256169600</td>\n",
       "      <td>Coffee flavoring</td>\n",
       "      <td>&lt;a href=\"http://www.amazon.com/gp/product/B000...</td>\n",
       "      <td>flavour creation coffe flavor tablet french va...</td>\n",
       "      <td>flavour creations coffee flavoring tablets fre...</td>\n",
       "    </tr>\n",
       "    <tr>\n",
       "      <th>4</th>\n",
       "      <td>128657</td>\n",
       "      <td>B001AVJT0K</td>\n",
       "      <td>AJ6SZ4YAPOOO7</td>\n",
       "      <td>Mwebi</td>\n",
       "      <td>0</td>\n",
       "      <td>0</td>\n",
       "      <td>1</td>\n",
       "      <td>1348099200</td>\n",
       "      <td>They all come running</td>\n",
       "      <td>I have the pickiest cats, they hate 99/100 kin...</td>\n",
       "      <td>pickiest cat hate kind food better vari otherw...</td>\n",
       "      <td>pickiest cats hate kinds food better vary othe...</td>\n",
       "    </tr>\n",
       "  </tbody>\n",
       "</table>\n",
       "</div>"
      ],
      "text/plain": [
       "       Id   ProductId          UserId       ProfileName  HelpfulnessNumerator  \\\n",
       "0  540125  B002W08W56  A2STPOZAT37RNE       Betty Baker                     1   \n",
       "1   31763  B000UXWQMC  A115Y8R40DCT3I               Guy                     0   \n",
       "2  509504  B000P09RJA  A2BR8LGC8N6XQD              dj2u                     0   \n",
       "3   27728  B000K8ESBY  A1RYTIMIWPDJ4O  Bill Ison \"Bill\"                     0   \n",
       "4  128657  B001AVJT0K   AJ6SZ4YAPOOO7             Mwebi                     0   \n",
       "\n",
       "   HelpfulnessDenominator  Score        Time  \\\n",
       "0                       1      1  1300320000   \n",
       "1                       0      1  1345161600   \n",
       "2                       4      0  1278374400   \n",
       "3                       0      1  1256169600   \n",
       "4                       0      1  1348099200   \n",
       "\n",
       "                                             Summary  \\\n",
       "0  Wonderful, but surprised to find this size can...   \n",
       "1                               better than expected   \n",
       "2                               Wrong size bars sent   \n",
       "3                                   Coffee flavoring   \n",
       "4                              They all come running   \n",
       "\n",
       "                                                Text  \\\n",
       "0  Great beans....the best texture hands down.  T...   \n",
       "1  I usually buy whole pitted olives and when I b...   \n",
       "2  The first shipment was just as ordered.  This ...   \n",
       "3  <a href=\"http://www.amazon.com/gp/product/B000...   \n",
       "4  I have the pickiest cats, they hate 99/100 kin...   \n",
       "\n",
       "                                         CleanedText  \\\n",
       "0  great bean best textur hand seem great tast do...   \n",
       "1  usual buy whole pit oliv bought good wasnt who...   \n",
       "2  first shipment order last shipment not bar wen...   \n",
       "3  flavour creation coffe flavor tablet french va...   \n",
       "4  pickiest cat hate kind food better vari otherw...   \n",
       "\n",
       "                                       CleanedNoStem  \n",
       "0  great beans best texture hands seem great tast...  \n",
       "1  usually buy whole pitted olives bought good wa...  \n",
       "2  first shipment ordered last shipment not bars ...  \n",
       "3  flavour creations coffee flavoring tablets fre...  \n",
       "4  pickiest cats hate kinds food better vary othe...  "
      ]
     },
     "execution_count": 21,
     "metadata": {},
     "output_type": "execute_result"
    }
   ],
   "source": [
    "final.head()"
   ]
  },
  {
   "cell_type": "code",
   "execution_count": 22,
   "metadata": {
    "collapsed": true
   },
   "outputs": [],
   "source": [
    "conn = sqlite3.connect('final.sqlite')\n",
    "c=conn.cursor()\n",
    "final.to_sql('Reviews', conn, if_exists='replace', index = False)\n",
    "conn.close()"
   ]
  },
  {
   "cell_type": "markdown",
   "metadata": {},
   "source": [
    "#### Write list_of_sent"
   ]
  },
  {
   "cell_type": "code",
   "execution_count": 24,
   "metadata": {
    "collapsed": true
   },
   "outputs": [],
   "source": [
    "with open('list_of_sent_nostem_input_to_w2v.pkl', 'wb') as pickle_file:\n",
    "    pickle.dump(list_of_sent, pickle_file)"
   ]
  },
  {
   "cell_type": "markdown",
   "metadata": {},
   "source": [
    "#### Read list_of_sent"
   ]
  },
  {
   "cell_type": "code",
   "execution_count": 3,
   "metadata": {
    "collapsed": true
   },
   "outputs": [],
   "source": [
    "with open('list_of_sent_nostem_input_to_w2v.pkl', 'rb') as pickle_file:\n",
    "    list_of_sent = pickle.load(pickle_file)"
   ]
  },
  {
   "cell_type": "markdown",
   "metadata": {},
   "source": [
    "#### Read Google W2V model"
   ]
  },
  {
   "cell_type": "code",
   "execution_count": 5,
   "metadata": {
    "collapsed": true
   },
   "outputs": [],
   "source": [
    "with open('google_word2vec_model', 'rb') as pickle_file:\n",
    "    google_w2v = pickle.load(pickle_file)"
   ]
  },
  {
   "cell_type": "code",
   "execution_count": 28,
   "metadata": {},
   "outputs": [
    {
     "data": {
      "text/plain": [
       "dict"
      ]
     },
     "execution_count": 28,
     "metadata": {},
     "output_type": "execute_result"
    }
   ],
   "source": [
    "type(google_w2v)"
   ]
  },
  {
   "cell_type": "code",
   "execution_count": 29,
   "metadata": {},
   "outputs": [
    {
     "data": {
      "text/plain": [
       "46603"
      ]
     },
     "execution_count": 29,
     "metadata": {},
     "output_type": "execute_result"
    }
   ],
   "source": [
    "len(google_w2v)"
   ]
  },
  {
   "cell_type": "code",
   "execution_count": 5,
   "metadata": {},
   "outputs": [
    {
     "data": {
      "text/plain": [
       "array([ 0.4375    ,  0.25195312,  0.15332031, -0.01312256, -0.07714844,\n",
       "        0.00747681,  0.16113281, -0.03393555, -0.17285156, -0.22460938,\n",
       "       -0.02160645, -0.01831055, -0.23242188, -0.24511719, -0.33007812,\n",
       "       -0.19042969, -0.05908203,  0.16992188,  0.19433594, -0.12890625,\n",
       "       -0.13867188,  0.05419922,  0.03564453, -0.31640625, -0.03881836,\n",
       "       -0.18847656, -0.08154297,  0.25585938,  0.01940918, -0.00349426,\n",
       "        0.30664062,  0.07568359,  0.15136719, -0.27148438,  0.02380371,\n",
       "        0.16796875,  0.17382812, -0.05297852,  0.19726562,  0.03759766,\n",
       "       -0.05200195, -0.171875  ,  0.04150391, -0.24121094, -0.18359375,\n",
       "        0.07910156, -0.02587891,  0.15625   ,  0.03198242, -0.02978516,\n",
       "       -0.18847656,  0.08447266,  0.0255127 ,  0.05859375,  0.09765625,\n",
       "        0.19238281,  0.03833008, -0.08398438,  0.21582031,  0.02600098,\n",
       "        0.07958984,  0.3203125 , -0.19433594, -0.12890625,  0.14355469,\n",
       "        0.08886719,  0.14257812,  0.25195312,  0.03112793, -0.27929688,\n",
       "        0.0072937 ,  0.17480469, -0.04711914, -0.04174805, -0.35742188,\n",
       "        0.02478027,  0.05639648,  0.09814453, -0.07568359, -0.11572266,\n",
       "        0.01940918,  0.03417969, -0.07275391,  0.05249023, -0.12792969,\n",
       "       -0.17089844, -0.07128906,  0.18066406, -0.11083984,  0.140625  ,\n",
       "        0.09472656,  0.05493164, -0.12597656, -0.29882812, -0.04785156,\n",
       "       -0.09033203,  0.18164062, -0.02502441, -0.09521484,  0.20996094,\n",
       "       -0.10498047,  0.01623535,  0.11669922,  0.07128906,  0.11572266,\n",
       "        0.22363281, -0.06298828, -0.01623535,  0.11523438,  0.13964844,\n",
       "       -0.4140625 , -0.03540039, -0.22949219, -0.10498047, -0.04956055,\n",
       "        0.12890625,  0.10205078, -0.01867676,  0.06396484,  0.10693359,\n",
       "       -0.1328125 ,  0.17089844, -0.00823975, -0.06542969,  0.00756836,\n",
       "       -0.18359375, -0.14453125, -0.21777344, -0.27539062, -0.20410156,\n",
       "        0.08447266, -0.01635742, -0.13574219,  0.02783203, -0.07910156,\n",
       "       -0.23632812,  0.23144531,  0.08642578,  0.12695312,  0.14160156,\n",
       "       -0.00375366, -0.14160156, -0.01452637,  0.01965332,  0.07373047,\n",
       "        0.28515625, -0.27539062, -0.20117188,  0.13867188, -0.07519531,\n",
       "       -0.0234375 ,  0.06298828, -0.11328125,  0.20898438,  0.19726562,\n",
       "        0.21191406, -0.13671875, -0.04052734, -0.171875  ,  0.09228516,\n",
       "       -0.10644531,  0.17871094,  0.10986328, -0.02355957, -0.10253906,\n",
       "       -0.16210938,  0.13964844, -0.05371094,  0.265625  , -0.08300781,\n",
       "       -0.0255127 ,  0.18164062, -0.13964844,  0.11279297,  0.02502441,\n",
       "       -0.04711914,  0.27539062, -0.00735474, -0.20605469,  0.02612305,\n",
       "        0.02624512,  0.01135254,  0.07910156,  0.06884766,  0.10888672,\n",
       "       -0.15527344, -0.19042969,  0.0703125 ,  0.2734375 , -0.12011719,\n",
       "       -0.01495361,  0.1640625 ,  0.16503906, -0.08105469,  0.04101562,\n",
       "        0.03662109,  0.16796875,  0.11816406, -0.23925781, -0.16210938,\n",
       "        0.13671875,  0.33007812, -0.05419922,  0.04174805,  0.10205078,\n",
       "        0.04394531,  0.05102539,  0.13476562, -0.03088379, -0.04956055,\n",
       "        0.04467773,  0.30078125, -0.02331543,  0.15429688,  0.11669922,\n",
       "        0.09570312, -0.05395508,  0.21972656,  0.05273438,  0.06787109,\n",
       "       -0.01647949,  0.0456543 , -0.06542969,  0.06689453, -0.02099609,\n",
       "        0.03320312,  0.11865234, -0.01794434,  0.01794434,  0.02307129,\n",
       "       -0.078125  , -0.2109375 , -0.01965332,  0.05517578, -0.01574707,\n",
       "       -0.16503906,  0.12109375, -0.359375  , -0.05273438,  0.02124023,\n",
       "        0.00052261,  0.13671875, -0.03320312, -0.2421875 ,  0.04003906,\n",
       "        0.07421875,  0.05102539,  0.17871094,  0.19921875, -0.07568359,\n",
       "       -0.10253906,  0.11816406,  0.18847656,  0.1796875 ,  0.25976562,\n",
       "        0.01397705,  0.15332031, -0.01092529,  0.00521851, -0.07226562,\n",
       "       -0.43554688,  0.17578125,  0.06591797,  0.05322266, -0.00531006,\n",
       "        0.10400391,  0.18554688, -0.08154297, -0.22949219,  0.31054688,\n",
       "       -0.0013504 ,  0.23925781,  0.30273438,  0.16894531, -0.0546875 ,\n",
       "        0.08789062, -0.00958252, -0.07714844, -0.14941406,  0.18554688,\n",
       "       -0.25390625, -0.23632812, -0.04638672,  0.17773438, -0.08789062,\n",
       "       -0.08984375, -0.17675781,  0.13964844,  0.07763672, -0.18652344,\n",
       "       -0.23535156,  0.0267334 , -0.13476562, -0.04956055, -0.25      ,\n",
       "        0.00069809,  0.19824219,  0.19921875,  0.0625    ,  0.11816406], dtype=float32)"
      ]
     },
     "execution_count": 5,
     "metadata": {},
     "output_type": "execute_result"
    }
   ],
   "source": [
    "word = 'trying'\n",
    "google_w2v[word]"
   ]
  },
  {
   "cell_type": "markdown",
   "metadata": {},
   "source": [
    "#### Avg W2V"
   ]
  },
  {
   "cell_type": "code",
   "execution_count": 6,
   "metadata": {
    "collapsed": true
   },
   "outputs": [],
   "source": [
    "def calc_avg_w2v(list_of_sent, w2v_model):\n",
    "    sent_vectors = []\n",
    "    for sent in list_of_sent:\n",
    "        sent_vec = np.zeros(300)\n",
    "        cnt_words = 0\n",
    "        for word in sent:\n",
    "            try:\n",
    "                vec = w2v_model[word]\n",
    "                sent_vec += vec\n",
    "                cnt_words += 1\n",
    "            except:\n",
    "                pass\n",
    "        sent_vec /= cnt_words\n",
    "        sent_vectors.append(sent_vec)\n",
    "    return sent_vectors"
   ]
  },
  {
   "cell_type": "code",
   "execution_count": 7,
   "metadata": {},
   "outputs": [
    {
     "name": "stderr",
     "output_type": "stream",
     "text": [
      "C:\\Users\\HARSHALL\\Anaconda3\\lib\\site-packages\\ipykernel_launcher.py:13: RuntimeWarning: invalid value encountered in true_divide\n",
      "  del sys.path[0]\n"
     ]
    }
   ],
   "source": [
    "sent_vectors = calc_avg_w2v(list_of_sent, google_w2v)"
   ]
  },
  {
   "cell_type": "code",
   "execution_count": 8,
   "metadata": {
    "collapsed": true
   },
   "outputs": [],
   "source": [
    "with open('avg_w2v.pkl', 'wb') as pickle_file:\n",
    "    pickle.dump(sent_vectors, pickle_file)"
   ]
  },
  {
   "cell_type": "code",
   "execution_count": 9,
   "metadata": {},
   "outputs": [
    {
     "data": {
      "text/plain": [
       "364171"
      ]
     },
     "execution_count": 9,
     "metadata": {},
     "output_type": "execute_result"
    }
   ],
   "source": [
    "len(sent_vectors)"
   ]
  },
  {
   "cell_type": "code",
   "execution_count": 10,
   "metadata": {},
   "outputs": [
    {
     "data": {
      "text/plain": [
       "300"
      ]
     },
     "execution_count": 10,
     "metadata": {},
     "output_type": "execute_result"
    }
   ],
   "source": [
    "len(sent_vectors[0])"
   ]
  },
  {
   "cell_type": "code",
   "execution_count": 11,
   "metadata": {},
   "outputs": [
    {
     "data": {
      "text/plain": [
       "list"
      ]
     },
     "execution_count": 11,
     "metadata": {},
     "output_type": "execute_result"
    }
   ],
   "source": [
    "type(sent_vectors)"
   ]
  },
  {
   "cell_type": "markdown",
   "metadata": {
    "collapsed": true
   },
   "source": [
    "#### TFIDF Avg W2V"
   ]
  },
  {
   "cell_type": "code",
   "execution_count": 4,
   "metadata": {},
   "outputs": [
    {
     "data": {
      "text/plain": [
       "(364171, 102974)"
      ]
     },
     "execution_count": 4,
     "metadata": {},
     "output_type": "execute_result"
    }
   ],
   "source": [
    "tf_idf_vect = TfidfVectorizer()\n",
    "tf_idf = tf_idf_vect.fit_transform(final['CleanedNoStem'].values)\n",
    "tfidf_feat = tf_idf_vect.get_feature_names()\n",
    "tf_idf.shape"
   ]
  },
  {
   "cell_type": "code",
   "execution_count": 11,
   "metadata": {
    "collapsed": true
   },
   "outputs": [],
   "source": [
    "def calc_tfidf_avg_w2v(list_of_sent, w2v_model, tf_idf, tfidf_feat, start_row):\n",
    "    tfidf_sent_vectors = []\n",
    "    for sent in list_of_sent:\n",
    "        sent_vec = np.zeros(300)\n",
    "        weighted_sum = 0\n",
    "        for word in sent:\n",
    "            try:\n",
    "                vec = w2v_model[word]\n",
    "                tfidf = tf_idf[start_row, tfidf_feat.index(word)]\n",
    "                sent_vec += vec*tfidf\n",
    "                weighted_sum += tfidf\n",
    "            except:\n",
    "                pass\n",
    "        sent_vec /= weighted_sum\n",
    "        print(start_row, weighted_sum)\n",
    "        tfidf_sent_vectors.append(sent_vec)\n",
    "        start_row += 1\n",
    "    return tfidf_sent_vectors"
   ]
  },
  {
   "cell_type": "code",
   "execution_count": 23,
   "metadata": {},
   "outputs": [
    {
     "name": "stdout",
     "output_type": "stream",
     "text": [
      "0 7.05824484167\n",
      "1 4.29534165439\n",
      "2 3.15120498183\n",
      "3 3.34949036076\n",
      "4 5.90668317375\n",
      "5 3.33076784704\n",
      "6 3.77942915256\n",
      "7 2.48461900791\n",
      "8 4.21546345129\n",
      "9 6.96560725258\n",
      "10 3.93934246931\n",
      "11 3.84195775195\n",
      "12 4.98158353998\n",
      "13 1.58615224732\n",
      "14 3.4877487538\n",
      "15 5.88402226711\n",
      "16 8.9535468818\n",
      "17 3.59974036299\n",
      "18 4.25337415165\n",
      "19 9.44081055633\n",
      "20 7.26330532951\n",
      "21 3.0750549686\n",
      "22 11.6694406683\n",
      "23 3.61914919876\n",
      "24 5.39481795571\n",
      "25 1.52897695443\n",
      "26 2.32254104369\n",
      "27 11.4175071738\n",
      "28 6.31762490448\n",
      "29 2.19051568024\n",
      "30 4.27018640742\n",
      "31 15.4152430309\n",
      "32 7.85542812272\n",
      "33 2.19833610892\n",
      "34 3.59112968878\n",
      "35 3.7971775038\n",
      "36 5.7191392331\n",
      "37 3.01143468736\n",
      "38 2.93456570865\n",
      "39 4.25989606053\n",
      "40 1.14385403151\n",
      "41 5.19366216375\n",
      "42 3.19059518485\n",
      "43 3.66991837376\n",
      "44 5.24235573987\n",
      "45 3.67440347387\n",
      "46 2.31787998968\n",
      "47 7.06735126407\n",
      "48 2.64584687892\n",
      "49 1.97596748595\n",
      "50 3.13610345881\n",
      "51 4.64506040729\n",
      "52 7.49827390805\n",
      "53 3.6904498765\n",
      "54 4.44422904449\n",
      "55 4.13094397305\n",
      "56 2.53648013992\n",
      "57 3.12483581466\n",
      "58 1.99670307963\n",
      "59 6.0232250207\n",
      "60 4.58920130091\n",
      "61 5.49328273872\n",
      "62 4.11864262401\n",
      "63 4.00332375879\n",
      "64 2.50732884023\n",
      "65 17.6228873317\n",
      "66 2.62526235997\n",
      "67 5.12249197013\n",
      "68 5.63762854836\n",
      "69 3.28354472112\n",
      "70 8.1962085864\n",
      "71 8.63013410868\n",
      "72 2.23836238659\n",
      "73 4.8749002461\n",
      "74 7.24801559576\n",
      "75 16.2916576487\n",
      "76 1.69773633788\n",
      "77 7.7255837565\n",
      "78 3.31993990189\n",
      "79 3.40726616946\n",
      "80 5.3685991417\n",
      "81 2.18100772467\n",
      "82 4.42217179277\n",
      "83 3.13160755623\n",
      "84 3.7826531942\n",
      "85 3.38011100498\n",
      "86 9.2340305997\n",
      "87 5.87689057138\n",
      "88 2.54781817559\n",
      "89 2.4405080912\n",
      "90 3.55307431327\n",
      "91 2.72061211419\n",
      "92 3.6275158813\n",
      "93 6.63288751363\n",
      "94 6.2470505523\n",
      "95 3.6072052342\n",
      "96 3.70406171175\n",
      "97 5.08925588764\n",
      "98 8.93176057599\n",
      "99 3.53640501102\n"
     ]
    }
   ],
   "source": [
    "tfidf_sent_vectors = calc_tfidf_avg_w2v(list_of_sent[:100], google_w2v, tf_idf, tfidf_feat, 0)"
   ]
  },
  {
   "cell_type": "code",
   "execution_count": null,
   "metadata": {
    "collapsed": true
   },
   "outputs": [],
   "source": []
  }
 ],
 "metadata": {
  "kernelspec": {
   "display_name": "Python 3",
   "language": "python",
   "name": "python3"
  },
  "language_info": {
   "codemirror_mode": {
    "name": "ipython",
    "version": 3
   },
   "file_extension": ".py",
   "mimetype": "text/x-python",
   "name": "python",
   "nbconvert_exporter": "python",
   "pygments_lexer": "ipython3",
   "version": "3.6.5"
  }
 },
 "nbformat": 4,
 "nbformat_minor": 2
}
