{
 "cells": [
  {
   "cell_type": "markdown",
   "metadata": {},
   "source": [
    "## References\n",
    "* Toy example for NB - http://shatterline.com/blog/2013/09/12/not-so-naive-classification-with-the-naive-bayes-classifier/\n",
    "* SKLEARN NB - http://scikit-learn.org/stable/modules/naive_bayes.html\n",
    "* Bernoulli NB - http://scikit-learn.org/stable/modules/generated/sklearn.naive_bayes.BernoulliNB.html\n",
    "* Multinomial NB - http://scikit-learn.org/stable/modules/generated/sklearn.naive_bayes.MultinomialNB.html\n",
    "* Gaussian NB - http://scikit-learn.org/stable/modules/generated/sklearn.naive_bayes.GaussianNB.html\n",
    "* SKLEARN Metrics - http://scikit-learn.org/stable/modules/classes.html\n",
    "* SKLEARN Classification Metrics - (Search on above page)"
   ]
  },
  {
   "cell_type": "markdown",
   "metadata": {},
   "source": [
    "## Some more reads:\n",
    "* http://sebastianraschka.com/Articles/2014_naive_bayes_1.html"
   ]
  }
 ],
 "metadata": {
  "kernelspec": {
   "display_name": "Python 3",
   "language": "python",
   "name": "python3"
  },
  "language_info": {
   "codemirror_mode": {
    "name": "ipython",
    "version": 3
   },
   "file_extension": ".py",
   "mimetype": "text/x-python",
   "name": "python",
   "nbconvert_exporter": "python",
   "pygments_lexer": "ipython3",
   "version": "3.6.3"
  }
 },
 "nbformat": 4,
 "nbformat_minor": 2
}
